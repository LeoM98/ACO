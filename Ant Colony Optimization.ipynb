{
 "cells": [
  {
   "cell_type": "markdown",
   "metadata": {},
   "source": [
    "# ACO - ANT COLONY OPTIMIZATION \n",
    "# Leonardo Monsalvo"
   ]
  },
  {
   "cell_type": "code",
   "execution_count": 8,
   "metadata": {},
   "outputs": [],
   "source": [
    "import string, math\n",
    "import numpy as np\n",
    "from copy import deepcopy\n",
    "import random"
   ]
  },
  {
   "cell_type": "markdown",
   "metadata": {},
   "source": [
    "# Matriz de adyacencia, distancias\n",
    "# Matriz de Heuristica local [nij]"
   ]
  },
  {
   "cell_type": "code",
   "execution_count": 9,
   "metadata": {},
   "outputs": [],
   "source": [
    "'''\n",
    "Returns an adjacency matrix from a tsp dataset.\n",
    "'''\n",
    "def distancesFromCoords():\n",
    "    f = open('kroA100.tsp')\n",
    "    #Reemplazar los saltos por \"\" y elimina los espacios en blancos por comas en cierta posición\n",
    "    data = [line.replace(\"\\n\",\"\").split(\" \")[1:] for line in f.readlines()[6:106]]#Se leen las 100 ciudades\n",
    "    #Al hacer map recibe como parametros un lambda (función) y data (datos que recibira y hará la función lambda)\n",
    "    coords =  list(map(lambda x: [float(x[0]),float(x[1])], data))\n",
    "    distances = []\n",
    "    for i in range(len(coords)):\n",
    "        row = []\n",
    "        for j in range(len(coords)):\n",
    "            row.append(math.sqrt((coords[i][0]-coords[j][0])**2 + (coords[i][1]-coords[j][1])**2))\n",
    "        distances.append(row)\n",
    "    return (distances)\n",
    "\n",
    "import warnings\n",
    "warnings.simplefilter(\"ignore\")\n",
    "\n",
    "def locH():#Heuristica local matriz\n",
    "    mat_dist = distancesFromCoords()\n",
    "    h = mat_dist.copy()\n",
    "    for i in range (len(mat_dist)):\n",
    "        for j in range (len(mat_dist)):\n",
    "            if (mat_dist[i][j] != 0): #Si los valores de las distancias \n",
    "                \n",
    "                try:\n",
    "                    h[i][j]= (1/mat_dist[i][j])\n",
    "                except ZeroDivisionError:\n",
    "                    print(\"\")\n",
    "    \n",
    "    return (np.array(h))"
   ]
  },
  {
   "cell_type": "markdown",
   "metadata": {},
   "source": [
    "# Ruta que las hormigas toman \n",
    "## Se toman rutas aleatorias con base a la nuestra matriz de adyacencia \n",
    "## Se asigna la cantidad de hormigas exploradoras para la creación de la matriz de feromonas "
   ]
  },
  {
   "cell_type": "code",
   "execution_count": 10,
   "metadata": {},
   "outputs": [],
   "source": [
    "def Routes():#Movimiento y caminos de la hormiga\n",
    "    \n",
    "    mat_dist = distancesFromCoords()\n",
    "    nciudad = len(mat_dist)#Cantidad de ciudades\n",
    "    pos = np.random.randint(0,len(mat_dist)-1)\n",
    "    aux = []\n",
    "    for i in range (nciudad):\n",
    "        if (i!=pos): #Si la posición actual es diferente a la ciudad, se añade\n",
    "            aux.append(i)\n",
    "    ruta = [pos]\n",
    "\n",
    "    while (len(aux)>0):\n",
    "        aux1 = random.choice(aux)\n",
    "        aux.remove(aux1)\n",
    "        ruta.append(aux1)\n",
    "    ruta.append(pos)\n",
    "\n",
    "    z = Objetive(ruta, mat_dist)\n",
    "    return (ruta,z)\n",
    "\n",
    "def firstFero():#Feromonas del primer recorrido\n",
    "    n = 1000\n",
    "    mat_h = locH()\n",
    "    fermat = np.zeros(np.shape(mat_h))#Matriz de igual tamaño con ceros \n",
    "    while(n>0):\n",
    "\n",
    "        soluciones,valor = Routes()\n",
    "        try:\n",
    "            matrizfer = 1/valor #\n",
    "        except ZeroDivisionError:\n",
    "            print(\"\")\n",
    "\n",
    "        for i in range(len(soluciones)-1):\n",
    "            start = soluciones[i]\n",
    "            end = soluciones[i+1]\n",
    "            fermat[start][end]+=matrizfer\n",
    "        n-=1\n",
    "    return (fermat)"
   ]
  },
  {
   "cell_type": "markdown",
   "metadata": {},
   "source": [
    "# Sumar la distancias de la matriz de adyacencia, de inicio a fin"
   ]
  },
  {
   "cell_type": "code",
   "execution_count": 11,
   "metadata": {},
   "outputs": [],
   "source": [
    "def Objetive(x,mat_dist):\n",
    "\n",
    "    suma = 0\n",
    "    for i in range(len(x)-1):\n",
    "        start = x[i] #ciudad de inicio\n",
    "        end = x[i+1] #ciudad final\n",
    "        suma+= mat_dist[start][end]\n",
    "    return (suma)\n",
    "\n",
    "def camino(mat_h):\n",
    "    mat_dist = distancesFromCoords()\n",
    "    mat_fer = firstFero()\n",
    "    pos = np.random.randint(0,len(mat_dist)-1)\n",
    "    alfa = 3\n",
    "    beta = 6\n",
    "    aux = 0\n",
    "    posicion = [pos]\n",
    "    while (len(posicion)<len(mat_fer)):\n",
    "        aleatorio = random.random()\n",
    "        probabilidades = Probabilidad(mat_h,mat_fer,alfa,beta,posicion)\n",
    "        posicion.append(posAcumu(probabilidades[:,posicion[aux]],aleatorio,posicion))\n",
    "        aux += 1\n",
    "    posicion.append(pos)\n",
    "    return (posicion)"
   ]
  },
  {
   "cell_type": "markdown",
   "metadata": {},
   "source": [
    "#  Pij(t) = (Tij^α x nij^β)/(Σ Tij^α x nij^β) \n",
    "## Probabilidad para ir de una ciudad a otra\n",
    "## Se modifica o actualiza la matriz de feromonas"
   ]
  },
  {
   "cell_type": "code",
   "execution_count": 12,
   "metadata": {},
   "outputs": [],
   "source": [
    "def Probabilidad(mat_h, mat_fer,alfa,beta,position):\n",
    "\n",
    "    matriz = (mat_fer**alfa)*(mat_h**beta)\n",
    "    for i in position:\n",
    "        matriz[i,:] = 0\n",
    "\n",
    "    suma1 = matriz.sum(axis=0)\n",
    "    probabilidad = matriz/suma1\n",
    "    return (probabilidad)\n",
    "\n",
    "def plusfero(mat_fer, solucion, mat_dist):\n",
    "\n",
    "    aux = deepcopy(mat_fer)\n",
    "    z = Objetive(solucion, mat_dist)\n",
    "    try:\n",
    "        matrizfer = 1/z\n",
    "    except ZeroDivisionError:\n",
    "        print(\"\")\n",
    "\n",
    "    for i in range(len(solucion)-1):\n",
    "        start = solucion[i]\n",
    "        end = solucion[i+1]\n",
    "        matrizfer+=aux[start][end]\n",
    "        \n",
    "    return np.array(aux)"
   ]
  },
  {
   "cell_type": "markdown",
   "metadata": {},
   "source": [
    "# Evaporación de las feromnonas con un valor p = 0.1 (índice de evaporación)"
   ]
  },
  {
   "cell_type": "code",
   "execution_count": 13,
   "metadata": {},
   "outputs": [],
   "source": [
    "def posAcumu(probabilidad,aleatorio,position):\n",
    "\n",
    "    aux = 0\n",
    "    for i in range (len(probabilidad)):\n",
    "        aux += probabilidad[i]\n",
    "        if (probabilidad[i] in position):\n",
    "            continue\n",
    "        elif (aux>aleatorio):\n",
    "            return i\n",
    "    return 0\n",
    "\n",
    "def evaporacion(mat_fer):\n",
    "    p = 0.1 #Indice de evaporización\n",
    "    for i in range(len(mat_fer)):\n",
    "        for j in range(len(mat_fer[0])):\n",
    "            #Formula para la evaporación\n",
    "            mat_fer[i][j] = (1-p)*mat_fer[i][j]\n",
    "    return (mat_fer)"
   ]
  },
  {
   "cell_type": "markdown",
   "metadata": {},
   "source": [
    "# Llamado de las fuciones"
   ]
  },
  {
   "cell_type": "code",
   "execution_count": 14,
   "metadata": {},
   "outputs": [
    {
     "name": "stdout",
     "output_type": "stream",
     "text": [
      "Iteraciones: 1000\n",
      "Ruta total: \n",
      "[85, 26, 11, 19, 56, 6, 8, 86, 50, 24, 80, 67, 84, 72, 49, 43, 1, 53, 39, 63, 68, 60, 57, 27, 92, 0, 48, 5, 62, 7, 91, 74, 18, 52, 93, 21, 87, 15, 69, 65, 64, 3, 96, 55, 79, 30, 88, 41, 66, 97, 90, 22, 44, 31, 71, 20, 73, 58, 16, 14, 10, 9, 83, 23, 37, 35, 98, 78, 17, 89, 46, 61, 76, 59, 34, 82, 54, 33, 28, 45, 2, 42, 95, 77, 51, 29, 47, 99, 70, 40, 13, 38, 4, 36, 32, 12, 75, 94, 81, 0, 85]\n",
      "\n",
      "Valor de z:  30426.325329964668\n"
     ]
    }
   ],
   "source": [
    "if __name__ == \"__main__\":\n",
    "    \n",
    "    mat_dist = distancesFromCoords()\n",
    "    mat_h = locH()\n",
    "    mat_fer = firstFero()\n",
    "    \n",
    "    while(True):\n",
    "        iteraciones = input(\"Iteraciones: \")\n",
    "        try:\n",
    "            iteraciones = int(iteraciones)\n",
    "            if(iteraciones<0):\n",
    "                print(\"\\nNumero invalido!\\n\")\n",
    "            else:\n",
    "                break\n",
    "        except ValueError:\n",
    "            print(\"\\nDigite un numero!\\n\")\n",
    "    \n",
    "    for i in range (iteraciones):\n",
    "        \n",
    "        solucion = camino(mat_h)\n",
    "        mafe = plusfero(mat_fer,solucion,mat_dist)\n",
    "        mafe = evaporacion(mat_fer)\n",
    "        \n",
    "    print(\"Ruta total: \")\n",
    "    print(solucion)\n",
    "    print(\"\\nValor de z: \", Objetive(solucion,mat_dist))"
   ]
  }
 ],
 "metadata": {
  "kernelspec": {
   "display_name": "Python 3",
   "language": "python",
   "name": "python3"
  },
  "language_info": {
   "codemirror_mode": {
    "name": "ipython",
    "version": 3
   },
   "file_extension": ".py",
   "mimetype": "text/x-python",
   "name": "python",
   "nbconvert_exporter": "python",
   "pygments_lexer": "ipython3",
   "version": "3.7.3"
  }
 },
 "nbformat": 4,
 "nbformat_minor": 2
}
